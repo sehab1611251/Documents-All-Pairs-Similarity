{
  "cells": [
    {
      "cell_type": "markdown",
      "metadata": {
        "id": "view-in-github",
        "colab_type": "text"
      },
      "source": [
        "<a href=\"https://colab.research.google.com/github/sehab1611251/Pairwise-Document-Similarity-Computation-for-Big-Data/blob/main/Documents_All_Pairs_Similarity.ipynb\" target=\"_parent\"><img src=\"https://colab.research.google.com/assets/colab-badge.svg\" alt=\"Open In Colab\"/></a>"
      ]
    },
    {
      "cell_type": "code",
      "execution_count": null,
      "metadata": {
        "colab": {
          "base_uri": "https://localhost:8080/"
        },
        "id": "sAkv9Znz-qe-",
        "outputId": "0cdf28a1-e463-4222-b538-ff5c9238e311"
      },
      "outputs": [
        {
          "output_type": "stream",
          "name": "stdout",
          "text": [
            "Mounted at /content/drive\n"
          ]
        }
      ],
      "source": [
        "from google.colab import drive\n",
        "drive.mount('/content/drive')"
      ]
    },
    {
      "cell_type": "code",
      "execution_count": null,
      "metadata": {
        "colab": {
          "base_uri": "https://localhost:8080/"
        },
        "id": "E2tx5v52--cy",
        "outputId": "9c5329de-eaef-41d9-8e82-6bf3f657965a"
      },
      "outputs": [
        {
          "output_type": "stream",
          "name": "stdout",
          "text": [
            "Looking in indexes: https://pypi.org/simple, https://us-python.pkg.dev/colab-wheels/public/simple/\n",
            "Collecting beir\n",
            "  Downloading beir-1.0.1.tar.gz (50 kB)\n",
            "\u001b[2K     \u001b[90m━━━━━━━━━━━━━━━━━━━━━━━━━━━━━━━━━━━━━━━━\u001b[0m \u001b[32m50.3/50.3 kB\u001b[0m \u001b[31m2.2 MB/s\u001b[0m eta \u001b[36m0:00:00\u001b[0m\n",
            "\u001b[?25h  Preparing metadata (setup.py) ... \u001b[?25l\u001b[?25hdone\n",
            "Collecting sentence-transformers (from beir)\n",
            "  Downloading sentence-transformers-2.2.2.tar.gz (85 kB)\n",
            "\u001b[2K     \u001b[90m━━━━━━━━━━━━━━━━━━━━━━━━━━━━━━━━━━━━━━━━\u001b[0m \u001b[32m86.0/86.0 kB\u001b[0m \u001b[31m4.9 MB/s\u001b[0m eta \u001b[36m0:00:00\u001b[0m\n",
            "\u001b[?25h  Preparing metadata (setup.py) ... \u001b[?25l\u001b[?25hdone\n",
            "Collecting pytrec_eval (from beir)\n",
            "  Downloading pytrec_eval-0.5.tar.gz (15 kB)\n",
            "  Preparing metadata (setup.py) ... \u001b[?25l\u001b[?25hdone\n",
            "Collecting faiss_cpu (from beir)\n",
            "  Downloading faiss_cpu-1.7.4-cp310-cp310-manylinux_2_17_x86_64.manylinux2014_x86_64.whl (17.6 MB)\n",
            "\u001b[2K     \u001b[90m━━━━━━━━━━━━━━━━━━━━━━━━━━━━━━━━━━━━━━━━\u001b[0m \u001b[32m17.6/17.6 MB\u001b[0m \u001b[31m68.4 MB/s\u001b[0m eta \u001b[36m0:00:00\u001b[0m\n",
            "\u001b[?25hCollecting elasticsearch==7.9.1 (from beir)\n",
            "  Downloading elasticsearch-7.9.1-py2.py3-none-any.whl (219 kB)\n",
            "\u001b[2K     \u001b[90m━━━━━━━━━━━━━━━━━━━━━━━━━━━━━━━━━━━━━━\u001b[0m \u001b[32m219.2/219.2 kB\u001b[0m \u001b[31m27.5 MB/s\u001b[0m eta \u001b[36m0:00:00\u001b[0m\n",
            "\u001b[?25hCollecting datasets (from beir)\n",
            "  Downloading datasets-2.12.0-py3-none-any.whl (474 kB)\n",
            "\u001b[2K     \u001b[90m━━━━━━━━━━━━━━━━━━━━━━━━━━━━━━━━━━━━━━\u001b[0m \u001b[32m474.6/474.6 kB\u001b[0m \u001b[31m48.0 MB/s\u001b[0m eta \u001b[36m0:00:00\u001b[0m\n",
            "\u001b[?25hRequirement already satisfied: urllib3>=1.21.1 in /usr/local/lib/python3.10/dist-packages (from elasticsearch==7.9.1->beir) (1.26.15)\n",
            "Requirement already satisfied: certifi in /usr/local/lib/python3.10/dist-packages (from elasticsearch==7.9.1->beir) (2022.12.7)\n",
            "Requirement already satisfied: numpy>=1.17 in /usr/local/lib/python3.10/dist-packages (from datasets->beir) (1.22.4)\n",
            "Requirement already satisfied: pyarrow>=8.0.0 in /usr/local/lib/python3.10/dist-packages (from datasets->beir) (9.0.0)\n",
            "Collecting dill<0.3.7,>=0.3.0 (from datasets->beir)\n",
            "  Downloading dill-0.3.6-py3-none-any.whl (110 kB)\n",
            "\u001b[2K     \u001b[90m━━━━━━━━━━━━━━━━━━━━━━━━━━━━━━━━━━━━━━\u001b[0m \u001b[32m110.5/110.5 kB\u001b[0m \u001b[31m13.0 MB/s\u001b[0m eta \u001b[36m0:00:00\u001b[0m\n",
            "\u001b[?25hRequirement already satisfied: pandas in /usr/local/lib/python3.10/dist-packages (from datasets->beir) (1.5.3)\n",
            "Requirement already satisfied: requests>=2.19.0 in /usr/local/lib/python3.10/dist-packages (from datasets->beir) (2.27.1)\n",
            "Requirement already satisfied: tqdm>=4.62.1 in /usr/local/lib/python3.10/dist-packages (from datasets->beir) (4.65.0)\n",
            "Collecting xxhash (from datasets->beir)\n",
            "  Downloading xxhash-3.2.0-cp310-cp310-manylinux_2_17_x86_64.manylinux2014_x86_64.whl (212 kB)\n",
            "\u001b[2K     \u001b[90m━━━━━━━━━━━━━━━━━━━━━━━━━━━━━━━━━━━━━━\u001b[0m \u001b[32m212.5/212.5 kB\u001b[0m \u001b[31m26.5 MB/s\u001b[0m eta \u001b[36m0:00:00\u001b[0m\n",
            "\u001b[?25hCollecting multiprocess (from datasets->beir)\n",
            "  Downloading multiprocess-0.70.14-py310-none-any.whl (134 kB)\n",
            "\u001b[2K     \u001b[90m━━━━━━━━━━━━━━━━━━━━━━━━━━━━━━━━━━━━━━\u001b[0m \u001b[32m134.3/134.3 kB\u001b[0m \u001b[31m18.5 MB/s\u001b[0m eta \u001b[36m0:00:00\u001b[0m\n",
            "\u001b[?25hRequirement already satisfied: fsspec[http]>=2021.11.1 in /usr/local/lib/python3.10/dist-packages (from datasets->beir) (2023.4.0)\n",
            "Collecting aiohttp (from datasets->beir)\n",
            "  Downloading aiohttp-3.8.4-cp310-cp310-manylinux_2_17_x86_64.manylinux2014_x86_64.whl (1.0 MB)\n",
            "\u001b[2K     \u001b[90m━━━━━━━━━━━━━━━━━━━━━━━━━━━━━━━━━━━━━━━━\u001b[0m \u001b[32m1.0/1.0 MB\u001b[0m \u001b[31m72.7 MB/s\u001b[0m eta \u001b[36m0:00:00\u001b[0m\n",
            "\u001b[?25hCollecting huggingface-hub<1.0.0,>=0.11.0 (from datasets->beir)\n",
            "  Downloading huggingface_hub-0.14.1-py3-none-any.whl (224 kB)\n",
            "\u001b[2K     \u001b[90m━━━━━━━━━━━━━━━━━━━━━━━━━━━━━━━━━━━━━━\u001b[0m \u001b[32m224.5/224.5 kB\u001b[0m \u001b[31m25.1 MB/s\u001b[0m eta \u001b[36m0:00:00\u001b[0m\n",
            "\u001b[?25hRequirement already satisfied: packaging in /usr/local/lib/python3.10/dist-packages (from datasets->beir) (23.1)\n",
            "Collecting responses<0.19 (from datasets->beir)\n",
            "  Downloading responses-0.18.0-py3-none-any.whl (38 kB)\n",
            "Requirement already satisfied: pyyaml>=5.1 in /usr/local/lib/python3.10/dist-packages (from datasets->beir) (6.0)\n",
            "Collecting transformers<5.0.0,>=4.6.0 (from sentence-transformers->beir)\n",
            "  Downloading transformers-4.29.2-py3-none-any.whl (7.1 MB)\n",
            "\u001b[2K     \u001b[90m━━━━━━━━━━━━━━━━━━━━━━━━━━━━━━━━━━━━━━━━\u001b[0m \u001b[32m7.1/7.1 MB\u001b[0m \u001b[31m107.1 MB/s\u001b[0m eta \u001b[36m0:00:00\u001b[0m\n",
            "\u001b[?25hRequirement already satisfied: torch>=1.6.0 in /usr/local/lib/python3.10/dist-packages (from sentence-transformers->beir) (2.0.0+cu118)\n",
            "Requirement already satisfied: torchvision in /usr/local/lib/python3.10/dist-packages (from sentence-transformers->beir) (0.15.1+cu118)\n",
            "Requirement already satisfied: scikit-learn in /usr/local/lib/python3.10/dist-packages (from sentence-transformers->beir) (1.2.2)\n",
            "Requirement already satisfied: scipy in /usr/local/lib/python3.10/dist-packages (from sentence-transformers->beir) (1.10.1)\n",
            "Requirement already satisfied: nltk in /usr/local/lib/python3.10/dist-packages (from sentence-transformers->beir) (3.8.1)\n",
            "Collecting sentencepiece (from sentence-transformers->beir)\n",
            "  Downloading sentencepiece-0.1.99-cp310-cp310-manylinux_2_17_x86_64.manylinux2014_x86_64.whl (1.3 MB)\n",
            "\u001b[2K     \u001b[90m━━━━━━━━━━━━━━━━━━━━━━━━━━━━━━━━━━━━━━━━\u001b[0m \u001b[32m1.3/1.3 MB\u001b[0m \u001b[31m71.3 MB/s\u001b[0m eta \u001b[36m0:00:00\u001b[0m\n",
            "\u001b[?25hRequirement already satisfied: attrs>=17.3.0 in /usr/local/lib/python3.10/dist-packages (from aiohttp->datasets->beir) (23.1.0)\n",
            "Requirement already satisfied: charset-normalizer<4.0,>=2.0 in /usr/local/lib/python3.10/dist-packages (from aiohttp->datasets->beir) (2.0.12)\n",
            "Collecting multidict<7.0,>=4.5 (from aiohttp->datasets->beir)\n",
            "  Downloading multidict-6.0.4-cp310-cp310-manylinux_2_17_x86_64.manylinux2014_x86_64.whl (114 kB)\n",
            "\u001b[2K     \u001b[90m━━━━━━━━━━━━━━━━━━━━━━━━━━━━━━━━━━━━━━\u001b[0m \u001b[32m114.5/114.5 kB\u001b[0m \u001b[31m13.8 MB/s\u001b[0m eta \u001b[36m0:00:00\u001b[0m\n",
            "\u001b[?25hCollecting async-timeout<5.0,>=4.0.0a3 (from aiohttp->datasets->beir)\n",
            "  Downloading async_timeout-4.0.2-py3-none-any.whl (5.8 kB)\n",
            "Collecting yarl<2.0,>=1.0 (from aiohttp->datasets->beir)\n",
            "  Downloading yarl-1.9.2-cp310-cp310-manylinux_2_17_x86_64.manylinux2014_x86_64.whl (268 kB)\n",
            "\u001b[2K     \u001b[90m━━━━━━━━━━━━━━━━━━━━━━━━━━━━━━━━━━━━━━\u001b[0m \u001b[32m268.8/268.8 kB\u001b[0m \u001b[31m30.2 MB/s\u001b[0m eta \u001b[36m0:00:00\u001b[0m\n",
            "\u001b[?25hCollecting frozenlist>=1.1.1 (from aiohttp->datasets->beir)\n",
            "  Downloading frozenlist-1.3.3-cp310-cp310-manylinux_2_5_x86_64.manylinux1_x86_64.manylinux_2_17_x86_64.manylinux2014_x86_64.whl (149 kB)\n",
            "\u001b[2K     \u001b[90m━━━━━━━━━━━━━━━━━━━━━━━━━━━━━━━━━━━━━━\u001b[0m \u001b[32m149.6/149.6 kB\u001b[0m \u001b[31m15.3 MB/s\u001b[0m eta \u001b[36m0:00:00\u001b[0m\n",
            "\u001b[?25hCollecting aiosignal>=1.1.2 (from aiohttp->datasets->beir)\n",
            "  Downloading aiosignal-1.3.1-py3-none-any.whl (7.6 kB)\n",
            "Requirement already satisfied: filelock in /usr/local/lib/python3.10/dist-packages (from huggingface-hub<1.0.0,>=0.11.0->datasets->beir) (3.12.0)\n",
            "Requirement already satisfied: typing-extensions>=3.7.4.3 in /usr/local/lib/python3.10/dist-packages (from huggingface-hub<1.0.0,>=0.11.0->datasets->beir) (4.5.0)\n",
            "Requirement already satisfied: idna<4,>=2.5 in /usr/local/lib/python3.10/dist-packages (from requests>=2.19.0->datasets->beir) (3.4)\n",
            "Requirement already satisfied: sympy in /usr/local/lib/python3.10/dist-packages (from torch>=1.6.0->sentence-transformers->beir) (1.11.1)\n",
            "Requirement already satisfied: networkx in /usr/local/lib/python3.10/dist-packages (from torch>=1.6.0->sentence-transformers->beir) (3.1)\n",
            "Requirement already satisfied: jinja2 in /usr/local/lib/python3.10/dist-packages (from torch>=1.6.0->sentence-transformers->beir) (3.1.2)\n",
            "Requirement already satisfied: triton==2.0.0 in /usr/local/lib/python3.10/dist-packages (from torch>=1.6.0->sentence-transformers->beir) (2.0.0)\n",
            "Requirement already satisfied: cmake in /usr/local/lib/python3.10/dist-packages (from triton==2.0.0->torch>=1.6.0->sentence-transformers->beir) (3.25.2)\n",
            "Requirement already satisfied: lit in /usr/local/lib/python3.10/dist-packages (from triton==2.0.0->torch>=1.6.0->sentence-transformers->beir) (16.0.3)\n",
            "Requirement already satisfied: regex!=2019.12.17 in /usr/local/lib/python3.10/dist-packages (from transformers<5.0.0,>=4.6.0->sentence-transformers->beir) (2022.10.31)\n",
            "Collecting tokenizers!=0.11.3,<0.14,>=0.11.1 (from transformers<5.0.0,>=4.6.0->sentence-transformers->beir)\n",
            "  Downloading tokenizers-0.13.3-cp310-cp310-manylinux_2_17_x86_64.manylinux2014_x86_64.whl (7.8 MB)\n",
            "\u001b[2K     \u001b[90m━━━━━━━━━━━━━━━━━━━━━━━━━━━━━━━━━━━━━━━━\u001b[0m \u001b[32m7.8/7.8 MB\u001b[0m \u001b[31m96.3 MB/s\u001b[0m eta \u001b[36m0:00:00\u001b[0m\n",
            "\u001b[?25hRequirement already satisfied: click in /usr/local/lib/python3.10/dist-packages (from nltk->sentence-transformers->beir) (8.1.3)\n",
            "Requirement already satisfied: joblib in /usr/local/lib/python3.10/dist-packages (from nltk->sentence-transformers->beir) (1.2.0)\n",
            "Requirement already satisfied: python-dateutil>=2.8.1 in /usr/local/lib/python3.10/dist-packages (from pandas->datasets->beir) (2.8.2)\n",
            "Requirement already satisfied: pytz>=2020.1 in /usr/local/lib/python3.10/dist-packages (from pandas->datasets->beir) (2022.7.1)\n",
            "Requirement already satisfied: threadpoolctl>=2.0.0 in /usr/local/lib/python3.10/dist-packages (from scikit-learn->sentence-transformers->beir) (3.1.0)\n",
            "Requirement already satisfied: pillow!=8.3.*,>=5.3.0 in /usr/local/lib/python3.10/dist-packages (from torchvision->sentence-transformers->beir) (8.4.0)\n",
            "Requirement already satisfied: six>=1.5 in /usr/local/lib/python3.10/dist-packages (from python-dateutil>=2.8.1->pandas->datasets->beir) (1.16.0)\n",
            "Requirement already satisfied: MarkupSafe>=2.0 in /usr/local/lib/python3.10/dist-packages (from jinja2->torch>=1.6.0->sentence-transformers->beir) (2.1.2)\n",
            "Requirement already satisfied: mpmath>=0.19 in /usr/local/lib/python3.10/dist-packages (from sympy->torch>=1.6.0->sentence-transformers->beir) (1.3.0)\n",
            "Building wheels for collected packages: beir, pytrec_eval, sentence-transformers\n",
            "  Building wheel for beir (setup.py) ... \u001b[?25l\u001b[?25hdone\n",
            "  Created wheel for beir: filename=beir-1.0.1-py3-none-any.whl size=62502 sha256=2de6905345be0a3f4d5d3fa9596a46598e08ce38a43f0da925e20cd081db07b5\n",
            "  Stored in directory: /root/.cache/pip/wheels/db/39/65/c3e53a900805045248fd6bed1b8ce0cc271bac7b3c9dd0f138\n",
            "  Building wheel for pytrec_eval (setup.py) ... \u001b[?25l\u001b[?25hdone\n",
            "  Created wheel for pytrec_eval: filename=pytrec_eval-0.5-cp310-cp310-linux_x86_64.whl size=293486 sha256=b0da47dca0b8e28b7efa5549c25e21d2c507fafd17a4b72f7b194f5d214375c5\n",
            "  Stored in directory: /root/.cache/pip/wheels/51/3a/cd/dcc1ddfc763987d5cb237165d8ac249aa98a23ab90f67317a8\n",
            "  Building wheel for sentence-transformers (setup.py) ... \u001b[?25l\u001b[?25hdone\n",
            "  Created wheel for sentence-transformers: filename=sentence_transformers-2.2.2-py3-none-any.whl size=125926 sha256=c5c1f1533a8583ed22ffd25c6c47fb40eba4cff59666fb65763d72144bada243\n",
            "  Stored in directory: /root/.cache/pip/wheels/62/f2/10/1e606fd5f02395388f74e7462910fe851042f97238cbbd902f\n",
            "Successfully built beir pytrec_eval sentence-transformers\n",
            "Installing collected packages: tokenizers, sentencepiece, faiss_cpu, xxhash, pytrec_eval, multidict, frozenlist, elasticsearch, dill, async-timeout, yarl, responses, multiprocess, huggingface-hub, aiosignal, transformers, aiohttp, datasets, sentence-transformers, beir\n",
            "Successfully installed aiohttp-3.8.4 aiosignal-1.3.1 async-timeout-4.0.2 beir-1.0.1 datasets-2.12.0 dill-0.3.6 elasticsearch-7.9.1 faiss_cpu-1.7.4 frozenlist-1.3.3 huggingface-hub-0.14.1 multidict-6.0.4 multiprocess-0.70.14 pytrec_eval-0.5 responses-0.18.0 sentence-transformers-2.2.2 sentencepiece-0.1.99 tokenizers-0.13.3 transformers-4.29.2 xxhash-3.2.0 yarl-1.9.2\n"
          ]
        }
      ],
      "source": [
        "!pip install --upgrade beir"
      ]
    },
    {
      "cell_type": "code",
      "execution_count": null,
      "metadata": {
        "id": "j56WtBgP_GLH",
        "colab": {
          "base_uri": "https://localhost:8080/"
        },
        "outputId": "31358676-e884-4754-81bd-057cd7ed9dd9"
      },
      "outputs": [
        {
          "output_type": "stream",
          "name": "stderr",
          "text": [
            "/usr/local/lib/python3.10/dist-packages/beir/util.py:2: TqdmExperimentalWarning: Using `tqdm.autonotebook.tqdm` in notebook mode. Use `tqdm.tqdm` instead to force console mode (e.g. in jupyter console)\n",
            "  from tqdm.autonotebook import tqdm\n"
          ]
        }
      ],
      "source": [
        "from beir import util, LoggingHandler\n",
        "from beir.datasets.data_loader import GenericDataLoader\n",
        "from beir.retrieval.evaluation import EvaluateRetrieval\n",
        "from beir.retrieval.search.dense import DenseRetrievalExactSearch as DRES\n",
        "import logging\n",
        "import os\n",
        "\n",
        "logging.basicConfig(format='%(asctime)s - %(message)s',datefmt='%Y-%m-%d %H:%M:%S',level=logging.INFO,handlers=[LoggingHandler()])"
      ]
    },
    {
      "cell_type": "code",
      "execution_count": null,
      "metadata": {
        "id": "jLEt8uhF_PFW",
        "colab": {
          "base_uri": "https://localhost:8080/"
        },
        "outputId": "8db899a0-3e78-4308-e6ab-f3a8308b2fb7"
      },
      "outputs": [
        {
          "output_type": "stream",
          "name": "stdout",
          "text": [
            "time: 1.1 ms (started: 2023-05-17 13:23:53 +00:00)\n"
          ]
        }
      ],
      "source": [
        "# importing the Dataset\n",
        "dataset = \"trec-covid\"\n",
        "url = \"https://public.ukp.informatik.tu-darmstadt.de/thakur/BEIR/datasets/{}.zip\".format(dataset)\n",
        "out_dir = \"datasets\"\n",
        "data_path = util.download_and_unzip(url, out_dir)"
      ]
    },
    {
      "cell_type": "code",
      "execution_count": null,
      "metadata": {
        "id": "07vZ704R_RyB",
        "colab": {
          "base_uri": "https://localhost:8080/",
          "height": 67,
          "referenced_widgets": [
            "9ac9ea7d9e524a8c83276f4ea86f2031",
            "36fdbdb910fd4f94b7018cd087692149",
            "73ea4e15e35044d788432ac425c81eca",
            "98df6a44347c4d73acd2620f5b737a66",
            "c0345310a9b4448388d13d76d5bb3433",
            "80c1abe73683454286a8d2cc067f98f7",
            "2d55198bd2d14399b441b749329b8ada",
            "00eeb2e43a2744a6bef8efa9142e9d93",
            "837b5bd428fe4ff6a497021bba621119",
            "67e59ff4677d42ebafdbde2bff9405df",
            "68a8c2c2214544dfbfcacda7a0506bd6"
          ]
        },
        "outputId": "ab6c2ed3-beaf-4cae-f50b-1b8958ac5d68"
      },
      "outputs": [
        {
          "output_type": "display_data",
          "data": {
            "text/plain": [
              "  0%|          | 0/171332 [00:00<?, ?it/s]"
            ],
            "application/vnd.jupyter.widget-view+json": {
              "version_major": 2,
              "version_minor": 0,
              "model_id": "9ac9ea7d9e524a8c83276f4ea86f2031"
            }
          },
          "metadata": {}
        },
        {
          "output_type": "stream",
          "name": "stdout",
          "text": [
            "time: 1.84 s (started: 2023-05-17 13:24:05 +00:00)\n"
          ]
        }
      ],
      "source": [
        "corpus, queries, qrels = GenericDataLoader(data_folder=data_path).load(split=\"test\")"
      ]
    },
    {
      "cell_type": "markdown",
      "source": [
        "**Since Dataset is large and takes so much time for computation, I am taking a subset of the data.**"
      ],
      "metadata": {
        "id": "D1WiIfqgoAVg"
      }
    },
    {
      "cell_type": "code",
      "source": [
        "subset_size = 500 # The size of the subset\n",
        "\n",
        "# Create a new dictionary to store the subset of the corpus\n",
        "corpus_subset = {}\n",
        "\n",
        "# Iterate over the items in the corpus and add them to the subset until the desired size is reached\n",
        "for doc_id, doc_text in corpus.items():\n",
        "    corpus_subset[doc_id] = doc_text\n",
        "    if len(corpus_subset) == subset_size:\n",
        "        break"
      ],
      "metadata": {
        "id": "b8IDeUXEH7Xe"
      },
      "execution_count": null,
      "outputs": []
    },
    {
      "cell_type": "code",
      "source": [
        "len(corpus_subset)"
      ],
      "metadata": {
        "colab": {
          "base_uri": "https://localhost:8080/"
        },
        "id": "cRRg1D-tIH3d",
        "outputId": "260f7b43-25f4-4822-880c-b811613e94cf"
      },
      "execution_count": null,
      "outputs": [
        {
          "output_type": "execute_result",
          "data": {
            "text/plain": [
              "500"
            ]
          },
          "metadata": {},
          "execution_count": 50
        },
        {
          "output_type": "stream",
          "name": "stdout",
          "text": [
            "time: 3.02 ms (started: 2023-05-17 13:24:19 +00:00)\n"
          ]
        }
      ]
    },
    {
      "cell_type": "code",
      "source": [
        "# Print the first 5 entries in the corpus dictionary\n",
        "print(\"Corpus:\")\n",
        "for i, (doc_id, doc_text) in enumerate(corpus_subset.items()):\n",
        "    print(f\"  Document ID: {doc_id}\")\n",
        "    print(f\"  Document text: {doc_text}\")\n",
        "    if i >= 4:\n",
        "        break"
      ],
      "metadata": {
        "colab": {
          "base_uri": "https://localhost:8080/"
        },
        "id": "GPesnX-kIMfC",
        "outputId": "5bc46495-6aec-4bb1-9861-56edb2565051"
      },
      "execution_count": null,
      "outputs": [
        {
          "output_type": "stream",
          "name": "stdout",
          "text": [
            "Corpus:\n",
            "  Document ID: ug7v899j\n",
            "  Document text: {'text': 'OBJECTIVE: This retrospective chart review describes the epidemiology and clinical features of 40 patients with culture-proven Mycoplasma pneumoniae infections at King Abdulaziz University Hospital, Jeddah, Saudi Arabia. METHODS: Patients with positive M. pneumoniae cultures from respiratory specimens from January 1997 through December 1998 were identified through the Microbiology records. Charts of patients were reviewed. RESULTS: 40 patients were identified, 33 (82.5%) of whom required admission. Most infections (92.5%) were community-acquired. The infection affected all age groups but was most common in infants (32.5%) and pre-school children (22.5%). It occurred year-round but was most common in the fall (35%) and spring (30%). More than three-quarters of patients (77.5%) had comorbidities. Twenty-four isolates (60%) were associated with pneumonia, 14 (35%) with upper respiratory tract infections, and 2 (5%) with bronchiolitis. Cough (82.5%), fever (75%), and malaise (58.8%) were the most common symptoms, and crepitations (60%), and wheezes (40%) were the most common signs. Most patients with pneumonia had crepitations (79.2%) but only 25% had bronchial breathing. Immunocompromised patients were more likely than non-immunocompromised patients to present with pneumonia (8/9 versus 16/31, P = 0.05). Of the 24 patients with pneumonia, 14 (58.3%) had uneventful recovery, 4 (16.7%) recovered following some complications, 3 (12.5%) died because of M pneumoniae infection, and 3 (12.5%) died due to underlying comorbidities. The 3 patients who died of M pneumoniae pneumonia had other comorbidities. CONCLUSION: our results were similar to published data except for the finding that infections were more common in infants and preschool children and that the mortality rate of pneumonia in patients with comorbidities was high.', 'title': 'Clinical features of culture-proven Mycoplasma pneumoniae infections at King Abdulaziz University Hospital, Jeddah, Saudi Arabia'}\n",
            "  Document ID: 02tnwd4m\n",
            "  Document text: {'text': 'Inflammatory diseases of the respiratory tract are commonly associated with elevated production of nitric oxide (NO•) and increased indices of NO• -dependent oxidative stress. Although NO• is known to have anti-microbial, anti-inflammatory and anti-oxidant properties, various lines of evidence support the contribution of NO• to lung injury in several disease models. On the basis of biochemical evidence, it is often presumed that such NO• -dependent oxidations are due to the formation of the oxidant peroxynitrite, although alternative mechanisms involving the phagocyte-derived heme proteins myeloperoxidase and eosinophil peroxidase might be operative during conditions of inflammation. Because of the overwhelming literature on NO• generation and activities in the respiratory tract, it would be beyond the scope of this commentary to review this area comprehensively. Instead, it focuses on recent evidence and concepts of the presumed contribution of NO• to inflammatory diseases of the lung.', 'title': 'Nitric oxide: a pro-inflammatory mediator in lung disease?'}\n",
            "  Document ID: ejv2xln0\n",
            "  Document text: {'text': 'Surfactant protein-D (SP-D) participates in the innate response to inhaled microorganisms and organic antigens, and contributes to immune and inflammatory regulation within the lung. SP-D is synthesized and secreted by alveolar and bronchiolar epithelial cells, but is also expressed by epithelial cells lining various exocrine ducts and the mucosa of the gastrointestinal and genitourinary tracts. SP-D, a collagenous calcium-dependent lectin (or collectin), binds to surface glycoconjugates expressed by a wide variety of microorganisms, and to oligosaccharides associated with the surface of various complex organic antigens. SP-D also specifically interacts with glycoconjugates and other molecules expressed on the surface of macrophages, neutrophils, and lymphocytes. In addition, SP-D binds to specific surfactant-associated lipids and can influence the organization of lipid mixtures containing phosphatidylinositol in vitro. Consistent with these diverse in vitro activities is the observation that SP-D-deficient transgenic mice show abnormal accumulations of surfactant lipids, and respond abnormally to challenge with respiratory viruses and bacterial lipopolysaccharides. The phenotype of macrophages isolated from the lungs of SP-D-deficient mice is altered, and there is circumstantial evidence that abnormal oxidant metabolism and/or increased metalloproteinase expression contributes to the development of emphysema. The expression of SP-D is increased in response to many forms of lung injury, and deficient accumulation of appropriately oligomerized SP-D might contribute to the pathogenesis of a variety of human lung diseases.', 'title': 'Surfactant protein-D and pulmonary host defense'}\n",
            "  Document ID: 2b73a28n\n",
            "  Document text: {'text': 'Endothelin-1 (ET-1) is a 21 amino acid peptide with diverse biological activity that has been implicated in numerous diseases. ET-1 is a potent mitogen regulator of smooth muscle tone, and inflammatory mediator that may play a key role in diseases of the airways, pulmonary circulation, and inflammatory lung diseases, both acute and chronic. This review will focus on the biology of ET-1 and its role in lung disease.', 'title': 'Role of endothelin-1 in lung disease'}\n",
            "  Document ID: 9785vg6d\n",
            "  Document text: {'text': 'Respiratory syncytial virus (RSV) and pneumonia virus of mice (PVM) are viruses of the family Paramyxoviridae, subfamily pneumovirus, which cause clinically important respiratory infections in humans and rodents, respectively. The respiratory epithelial target cells respond to viral infection with specific alterations in gene expression, including production of chemoattractant cytokines, adhesion molecules, elements that are related to the apoptosis response, and others that remain incompletely understood. Here we review our current understanding of these mucosal responses and discuss several genomic approaches, including differential display reverse transcription-polymerase chain reaction (PCR) and gene array strategies, that will permit us to unravel the nature of these responses in a more complete and systematic manner.', 'title': 'Gene expression in epithelial cells in response to pneumovirus infection'}\n",
            "time: 1.09 ms (started: 2023-05-17 13:24:22 +00:00)\n"
          ]
        }
      ]
    },
    {
      "cell_type": "markdown",
      "source": [
        "**Pre-processing the corpus**"
      ],
      "metadata": {
        "id": "z0OgzhNxQjzB"
      }
    },
    {
      "cell_type": "code",
      "source": [
        "from sklearn.feature_extraction.text import TfidfVectorizer\n",
        "import numpy as np"
      ],
      "metadata": {
        "id": "J5spQ73sQqfr"
      },
      "execution_count": null,
      "outputs": []
    },
    {
      "cell_type": "code",
      "source": [
        "vectorizer = TfidfVectorizer()  #  It creates an instance of the TfidfVectorizer class and uses it to fit and transform the list of document texts into a matrix of TF-IDF features"
      ],
      "metadata": {
        "id": "dkSYEiEWQ_hi"
      },
      "execution_count": null,
      "outputs": []
    },
    {
      "cell_type": "code",
      "source": [
        "corpus_list = [{'id': key, 'text': value['text']} for key, value in corpus_subset.items()]  # converts corpus_subset into a list of dictionaries where each dictionary has an 'id' field and a 'text' field"
      ],
      "metadata": {
        "id": "aIRoXtkKRQe9"
      },
      "execution_count": null,
      "outputs": []
    },
    {
      "cell_type": "code",
      "source": [
        "X = vectorizer.fit_transform([doc['text'] for doc in corpus_list])"
      ],
      "metadata": {
        "id": "qz2nDgO1RW-l"
      },
      "execution_count": null,
      "outputs": []
    },
    {
      "cell_type": "code",
      "source": [
        "corpus_vectorized = {doc['id']: vec for doc, vec in zip(corpus_list, X)}"
      ],
      "metadata": {
        "id": "uYSeFT0kRalT"
      },
      "execution_count": null,
      "outputs": []
    },
    {
      "cell_type": "code",
      "source": [
        "len(corpus_vectorized)"
      ],
      "metadata": {
        "colab": {
          "base_uri": "https://localhost:8080/"
        },
        "id": "K4uE98rEReOY",
        "outputId": "ad6039c2-27df-49dd-dad7-11c920608273"
      },
      "execution_count": null,
      "outputs": [
        {
          "output_type": "execute_result",
          "data": {
            "text/plain": [
              "500"
            ]
          },
          "metadata": {},
          "execution_count": 56
        },
        {
          "output_type": "stream",
          "name": "stdout",
          "text": [
            "time: 2.93 ms (started: 2023-05-17 13:24:35 +00:00)\n"
          ]
        }
      ]
    },
    {
      "cell_type": "code",
      "source": [
        "# Print the first 3 entries in the vectorized corpus dictionary\n",
        "print(\"Corpus:\")\n",
        "for i, (doc_id, doc_text) in enumerate(corpus_vectorized.items()):\n",
        "    print(f\"  Document ID: {doc_id}\")\n",
        "    print(f\"  Document text: {doc_text}\")\n",
        "    if i >= 2:\n",
        "        break\n",
        "\n",
        "# the output shows,  The vector representation of each document is a sparse matrix in Compressed Sparse Row (CSR) format.\n",
        "#For example, the (0, 19114) 0.03581738621457777 entry indicates that the value at row 0 and column 19114 of the matrix is 0.03581738621457777."
      ],
      "metadata": {
        "colab": {
          "base_uri": "https://localhost:8080/"
        },
        "id": "fZo8gDu5Rj69",
        "outputId": "096d73a5-9fc0-44c0-fd51-8ac65220d1c0"
      },
      "execution_count": null,
      "outputs": [
        {
          "output_type": "stream",
          "name": "stdout",
          "text": [
            "Corpus:\n",
            "  Document ID: ug7v899j\n",
            "  Document text:   (0, 4338)\t0.027321845857352013\n",
            "  (0, 7603)\t0.03589175763829515\n",
            "  (0, 5983)\t0.036594973612808814\n",
            "  (0, 7206)\t0.06955036177702395\n",
            "  (0, 9118)\t0.027273805227828955\n",
            "  (0, 3690)\t0.05137505815384527\n",
            "  (0, 3773)\t0.013250170882229637\n",
            "  (0, 3437)\t0.06216031950650572\n",
            "  (0, 2514)\t0.025462963736577804\n",
            "  (0, 7473)\t0.04880389023467086\n",
            "  (0, 8436)\t0.03873443975147449\n",
            "  (0, 6534)\t0.02580971226014836\n",
            "  (0, 2134)\t0.02896533525167126\n",
            "  (0, 6529)\t0.027220787495635945\n",
            "  (0, 9968)\t0.041801584414995326\n",
            "  (0, 9548)\t0.046124482021992715\n",
            "  (0, 2984)\t0.03635537752218948\n",
            "  (0, 1221)\t0.038442323469250805\n",
            "  (0, 2753)\t0.1643108317079625\n",
            "  (0, 51)\t0.0793242365526593\n",
            "  (0, 2085)\t0.054770277235987506\n",
            "  (0, 8542)\t0.03502094099401403\n",
            "  (0, 3765)\t0.03709095035715525\n",
            "  (0, 7704)\t0.05137505815384527\n",
            "  (0, 7705)\t0.05351452429251094\n",
            "  :\t:\n",
            "  (0, 4423)\t0.040678275129186876\n",
            "  (0, 9598)\t0.05619393250518908\n",
            "  (0, 407)\t0.06955036177702395\n",
            "  (0, 5210)\t0.06955036177702395\n",
            "  (0, 1073)\t0.021283176698929346\n",
            "  (0, 4806)\t0.13244801771044695\n",
            "  (0, 7019)\t0.23912502910888284\n",
            "  (0, 6077)\t0.06955036177702395\n",
            "  (0, 7428)\t0.057837421899508336\n",
            "  (0, 2423)\t0.043985015883327046\n",
            "  (0, 9996)\t0.12426333999726348\n",
            "  (0, 6734)\t0.3354011755923523\n",
            "  (0, 260)\t0.1366441204832901\n",
            "  (0, 6390)\t0.0901978579645885\n",
            "  (0, 3628)\t0.04351108997897275\n",
            "  (0, 1893)\t0.032272076005811424\n",
            "  (0, 815)\t0.11388033814907282\n",
            "  (0, 3295)\t0.04959399811097496\n",
            "  (0, 9119)\t0.11274732245573563\n",
            "  (0, 2675)\t0.04738023496546928\n",
            "  (0, 7990)\t0.037347868266914885\n",
            "  (0, 1758)\t0.06955036177702395\n",
            "  (0, 7970)\t0.052391215006702484\n",
            "  (0, 9158)\t0.016308276480066487\n",
            "  (0, 6355)\t0.04738023496546928\n",
            "  Document ID: 02tnwd4m\n",
            "  Document text:   (0, 2122)\t0.0866622960911595\n",
            "  (0, 7669)\t0.06476077225556819\n",
            "  (0, 3754)\t0.10066343829852097\n",
            "  (0, 4902)\t0.09681074600499263\n",
            "  (0, 2097)\t0.11263099364617189\n",
            "  (0, 961)\t0.07903381823594727\n",
            "  (0, 2015)\t0.11263099364617189\n",
            "  (0, 8201)\t0.09681074600499263\n",
            "  (0, 1272)\t0.09681074600499263\n",
            "  (0, 10036)\t0.06371405586204193\n",
            "  (0, 518)\t0.07287563530969077\n",
            "  (0, 3954)\t0.0803133318563235\n",
            "  (0, 5408)\t0.07672832760321911\n",
            "  (0, 6580)\t0.09681074600499263\n",
            "  (0, 4822)\t0.07469474074350857\n",
            "  (0, 2141)\t0.06587506420601005\n",
            "  (0, 2991)\t0.044081788579244933\n",
            "  (0, 6449)\t0.10563042254249116\n",
            "  (0, 1216)\t0.060088976349790164\n",
            "  (0, 5826)\t0.06272718539585764\n",
            "  (0, 6829)\t0.10563042254249116\n",
            "  (0, 3285)\t0.10563042254249116\n",
            "  (0, 6080)\t0.10563042254249116\n",
            "  (0, 7406)\t0.051001109967093665\n",
            "  (0, 4269)\t0.09681074600499263\n",
            "  :\t:\n",
            "  (0, 4749)\t0.05509870754064539\n",
            "  (0, 6238)\t0.3753548515791135\n",
            "  (0, 6591)\t0.10066343829852097\n",
            "  (0, 6224)\t0.10563042254249116\n",
            "  (0, 7300)\t0.06587506420601005\n",
            "  (0, 3120)\t0.07672832760321911\n",
            "  (0, 2022)\t0.07568161120969286\n",
            "  (0, 960)\t0.05626344858153469\n",
            "  (0, 2837)\t0.1055864338158345\n",
            "  (0, 4823)\t0.19428231676670454\n",
            "  (0, 9118)\t0.022083823181041535\n",
            "  (0, 2984)\t0.05887449310232931\n",
            "  (0, 1221)\t0.06225412750965195\n",
            "  (0, 9235)\t0.09540404741591108\n",
            "  (0, 9296)\t0.15345665520643822\n",
            "  (0, 1054)\t0.04508783232086059\n",
            "  (0, 5103)\t0.12412145925251404\n",
            "  (0, 4708)\t0.03732950483432018\n",
            "  (0, 7931)\t0.10781501771671823\n",
            "  (0, 9996)\t0.022359342848175198\n",
            "  (0, 6390)\t0.23736031596501217\n",
            "  (0, 815)\t0.09220984129179156\n",
            "  (0, 9119)\t0.2008433442780872\n",
            "  (0, 7990)\t0.06048174885063772\n",
            "  (0, 9158)\t0.05281977944256152\n",
            "  Document ID: ejv2xln0\n",
            "  Document text:   (0, 4466)\t0.025112265119825946\n",
            "  (0, 6718)\t0.04482362484137605\n",
            "  (0, 2265)\t0.05140919863979116\n",
            "  (0, 6413)\t0.07087639418261574\n",
            "  (0, 935)\t0.07087639418261574\n",
            "  (0, 472)\t0.04973437482621899\n",
            "  (0, 3795)\t0.047624899104812025\n",
            "  (0, 5589)\t0.036347320150340263\n",
            "  (0, 3166)\t0.07087639418261574\n",
            "  (0, 2724)\t0.03107235118842708\n",
            "  (0, 3527)\t0.06242508945940947\n",
            "  (0, 5746)\t0.06647107712924205\n",
            "  (0, 5742)\t0.06334545493789029\n",
            "  (0, 1846)\t0.06647107712924205\n",
            "  (0, 9134)\t0.03288736854327691\n",
            "  (0, 740)\t0.048984777716024226\n",
            "  (0, 5484)\t0.05140919863979116\n",
            "  (0, 5087)\t0.048984777716024226\n",
            "  (0, 6889)\t0.053390094769397906\n",
            "  (0, 5396)\t0.07087639418261574\n",
            "  (0, 1185)\t0.047624899104812025\n",
            "  (0, 9842)\t0.03052899553537993\n",
            "  (0, 1725)\t0.04075263720371396\n",
            "  (0, 418)\t0.07087639418261574\n",
            "  (0, 7933)\t0.053390094769397906\n",
            "  :\t:\n",
            "  (0, 518)\t0.045859155524672464\n",
            "  (0, 5826)\t0.03947294234169202\n",
            "  (0, 6421)\t0.018202343393495066\n",
            "  (0, 4872)\t0.04973437482621899\n",
            "  (0, 5483)\t0.12329274602212398\n",
            "  (0, 3410)\t0.03754246323388466\n",
            "  (0, 9738)\t0.07224658942909534\n",
            "  (0, 6588)\t0.06647107712924205\n",
            "  (0, 5077)\t0.08372632202949036\n",
            "  (0, 2657)\t0.039175256632559066\n",
            "  (0, 4749)\t0.06934499267353618\n",
            "  (0, 2837)\t0.033221697958988515\n",
            "  (0, 4823)\t0.04075263720371396\n",
            "  (0, 9118)\t0.02779380179767926\n",
            "  (0, 6529)\t0.027739773240680127\n",
            "  (0, 9235)\t0.10806448894979112\n",
            "  (0, 1054)\t0.056745712222909285\n",
            "  (0, 4708)\t0.058726745934400755\n",
            "  (0, 1482)\t0.02535642929855146\n",
            "  (0, 7931)\t0.03392289922657333\n",
            "  (0, 3852)\t0.017342528378974396\n",
            "  (0, 9996)\t0.05628111929297102\n",
            "  (0, 6390)\t0.16085571449702957\n",
            "  (0, 815)\t0.18568249032964002\n",
            "  (0, 9119)\t0.14936602060438461\n",
            "time: 2.78 ms (started: 2023-05-17 13:24:40 +00:00)\n"
          ]
        }
      ]
    },
    {
      "cell_type": "markdown",
      "source": [
        "**Selecting the Threshold**"
      ],
      "metadata": {
        "id": "RBOAdtlKTJY-"
      }
    },
    {
      "cell_type": "code",
      "source": [
        "threshold=0.3 # The threshold determines how similar two documents must be in order to be considered similar."
      ],
      "metadata": {
        "id": "WQtGc0EATIxr"
      },
      "execution_count": null,
      "outputs": []
    },
    {
      "cell_type": "code",
      "source": [
        "!pip install ipython-autotime\n",
        "\n",
        "%load_ext autotime"
      ],
      "metadata": {
        "id": "xv1eU8kcjZ8S",
        "colab": {
          "base_uri": "https://localhost:8080/"
        },
        "outputId": "abf0797f-e80c-4917-8784-4a4366598bcf"
      },
      "execution_count": null,
      "outputs": [
        {
          "output_type": "stream",
          "name": "stdout",
          "text": [
            "Looking in indexes: https://pypi.org/simple, https://us-python.pkg.dev/colab-wheels/public/simple/\n",
            "Collecting ipython-autotime\n",
            "  Downloading ipython_autotime-0.3.1-py2.py3-none-any.whl (6.8 kB)\n",
            "Requirement already satisfied: ipython in /usr/local/lib/python3.10/dist-packages (from ipython-autotime) (7.34.0)\n",
            "Requirement already satisfied: setuptools>=18.5 in /usr/local/lib/python3.10/dist-packages (from ipython->ipython-autotime) (67.7.2)\n",
            "Collecting jedi>=0.16 (from ipython->ipython-autotime)\n",
            "  Downloading jedi-0.18.2-py2.py3-none-any.whl (1.6 MB)\n",
            "\u001b[2K     \u001b[90m━━━━━━━━━━━━━━━━━━━━━━━━━━━━━━━━━━━━━━━━\u001b[0m \u001b[32m1.6/1.6 MB\u001b[0m \u001b[31m19.4 MB/s\u001b[0m eta \u001b[36m0:00:00\u001b[0m\n",
            "\u001b[?25hRequirement already satisfied: decorator in /usr/local/lib/python3.10/dist-packages (from ipython->ipython-autotime) (4.4.2)\n",
            "Requirement already satisfied: pickleshare in /usr/local/lib/python3.10/dist-packages (from ipython->ipython-autotime) (0.7.5)\n",
            "Requirement already satisfied: traitlets>=4.2 in /usr/local/lib/python3.10/dist-packages (from ipython->ipython-autotime) (5.7.1)\n",
            "Requirement already satisfied: prompt-toolkit!=3.0.0,!=3.0.1,<3.1.0,>=2.0.0 in /usr/local/lib/python3.10/dist-packages (from ipython->ipython-autotime) (3.0.38)\n",
            "Requirement already satisfied: pygments in /usr/local/lib/python3.10/dist-packages (from ipython->ipython-autotime) (2.14.0)\n",
            "Requirement already satisfied: backcall in /usr/local/lib/python3.10/dist-packages (from ipython->ipython-autotime) (0.2.0)\n",
            "Requirement already satisfied: matplotlib-inline in /usr/local/lib/python3.10/dist-packages (from ipython->ipython-autotime) (0.1.6)\n",
            "Requirement already satisfied: pexpect>4.3 in /usr/local/lib/python3.10/dist-packages (from ipython->ipython-autotime) (4.8.0)\n",
            "Requirement already satisfied: parso<0.9.0,>=0.8.0 in /usr/local/lib/python3.10/dist-packages (from jedi>=0.16->ipython->ipython-autotime) (0.8.3)\n",
            "Requirement already satisfied: ptyprocess>=0.5 in /usr/local/lib/python3.10/dist-packages (from pexpect>4.3->ipython->ipython-autotime) (0.7.0)\n",
            "Requirement already satisfied: wcwidth in /usr/local/lib/python3.10/dist-packages (from prompt-toolkit!=3.0.0,!=3.0.1,<3.1.0,>=2.0.0->ipython->ipython-autotime) (0.2.6)\n",
            "Installing collected packages: jedi, ipython-autotime\n",
            "Successfully installed ipython-autotime-0.3.1 jedi-0.18.2\n",
            "time: 274 µs (started: 2023-05-17 13:01:07 +00:00)\n"
          ]
        }
      ]
    },
    {
      "cell_type": "markdown",
      "metadata": {
        "id": "g34g1iwD1koQ"
      },
      "source": [
        "**Sequential Solution**"
      ]
    },
    {
      "cell_type": "code",
      "source": [
        "import numpy as np\n",
        "from scipy.sparse import csr_matrix\n",
        "\n",
        "def cosine_similarity(d1, d2):  # This function calculates the cosine similarity between two document vectors d1 and d2.\n",
        "    dot_product = np.dot(d1.A, d2.T.A)[0, 0]\n",
        "    norm1 = np.linalg.norm(d1.A) # Calculate the L2 norm of the first vector\n",
        "    norm2 = np.linalg.norm(d2.A) # Calculate the L2 norm of the second vector\n",
        "    return dot_product / (norm1 * norm2) # Return the cosine similarity\n",
        "\n",
        "def find_similar_documents(corpus_vectorized, threshold): # This function returns the number of document pairs in the corpus with a cosine similarity greater than or equal to the threshold.\n",
        "    sim_docs = []\n",
        "    for id1, d1 in corpus_vectorized.items():\n",
        "        for id2, d2 in corpus_vectorized.items():\n",
        "            if id1 != id2:  # if d1!=d2 and s(d1, d2)>=threshold : ( Skip pairs with the same document ID )\n",
        "                d1_csr = csr_matrix(d1)\n",
        "                d2_csr = csr_matrix(d2)\n",
        "                if cosine_similarity(d1_csr, d2_csr) >= threshold:\n",
        "                    sim_docs.append((id1, id2))\n",
        "    return sim_docs"
      ],
      "metadata": {
        "id": "ijcZ_4MFhGcq"
      },
      "execution_count": null,
      "outputs": []
    },
    {
      "cell_type": "code",
      "source": [
        "S_result=find_similar_documents(corpus_vectorized, threshold)"
      ],
      "metadata": {
        "id": "Vq0jnjwjS1I4"
      },
      "execution_count": null,
      "outputs": []
    },
    {
      "cell_type": "code",
      "source": [
        "print(\"The similar document pairs:\", S_result)"
      ],
      "metadata": {
        "colab": {
          "base_uri": "https://localhost:8080/"
        },
        "id": "zb6yBnu5S6so",
        "outputId": "977729f0-df1e-4a1d-ab51-7842f77f943c"
      },
      "execution_count": null,
      "outputs": [
        {
          "output_type": "stream",
          "name": "stdout",
          "text": [
            "The similar document pairs: [('ug7v899j', '00rk8fb5'), ('ejv2xln0', 'niii78fr'), ('bbvxu8op', 'c8yzoen7'), ('zowp10ts', 'cgl34ykt'), ('zowp10ts', '4tvrhpss'), ('754nln40', 'ipwm9uob'), ('p34ezktf', 'fite9vs8'), ('p34ezktf', '05ppugs7'), ('cgl34ykt', 'zowp10ts'), ('cgl34ykt', 'x7wva1ax'), ('cgl34ykt', '4tvrhpss'), ('ajlctjeb', 'boto4h8x'), ('oluq7v0h', '094d0rn6'), ('tw6wusxe', '05ppugs7'), ('tw6wusxe', 'utmt5sva'), ('58czem0j', '1dus0u4m'), ('5eqdrd52', 'tex6bgab'), ('xgwbl8em', '69gftii4'), ('xgwbl8em', '8crvjzz4'), ('xgwbl8em', 'pc4x5e24'), ('69gftii4', 'xgwbl8em'), ('5fl0rk90', 'ze511t38'), ('1n0rg5vd', 'iy4c7404'), ('1n0rg5vd', 'vexwisnz'), ('nzh87aux', 'yxtdqjay'), ('nzh87aux', '8d4f4gmw'), ('fvfjz7al', 'fite9vs8'), ('fvfjz7al', '05ppugs7'), ('s4y6uxsb', 'z5klydpi'), ('9zmyojbu', '7gk8uzo0'), ('z5klydpi', 's4y6uxsb'), ('2ks9iimj', 'sasijnks'), ('2ks9iimj', '87mjdccj'), ('2ks9iimj', 'yxtdqjay'), ('1n69h3i3', 'epkw6222'), ('yfn8sy1m', 'wcyv6w47'), ('9zm4per4', 'wtvfow2f'), ('9zm4per4', 'zwgnkegf'), ('9zm4per4', 'q26f8pv4'), ('noscodew', '5j496cx0'), ('6lezilfv', 'ajafw966'), ('6lezilfv', '5kapn32k'), ('7gk8uzo0', '9zmyojbu'), ('7gk8uzo0', 'zizfgz7d'), ('fite9vs8', 'p34ezktf'), ('fite9vs8', 'fvfjz7al'), ('fite9vs8', '05ppugs7'), ('fite9vs8', 'yxtdqjay'), ('ipwm9uob', '754nln40'), ('fae3sczm', 'jy7j8sh0'), ('x7wva1ax', 'cgl34ykt'), ('x7wva1ax', '4tvrhpss'), ('fj9l8che', '4z38v9rg'), ('1dus0u4m', '58czem0j'), ('iy4c7404', '1n0rg5vd'), ('iy4c7404', 'vexwisnz'), ('ze511t38', '5fl0rk90'), ('ajafw966', '6lezilfv'), ('ajafw966', 'osioowtp'), ('4z38v9rg', 'fj9l8che'), ('7gmtp6km', 'f0vud3gu'), ('7gmtp6km', '1r1ueuk2'), ('ueglfhux', 'prsvv6l9'), ('wdcmb4x5', 'yxtdqjay'), ('fpsyem7x', 'f6igj0pd'), ('prsvv6l9', 'ueglfhux'), ('hx77tpbt', 'uvf5qzfd'), ('wtvfow2f', '9zm4per4'), ('5j496cx0', 'noscodew'), ('sasijnks', '2ks9iimj'), ('sasijnks', '87mjdccj'), ('uj7lyawj', 'fmgnavfq'), ('xu9llz9u', 'hd12p867'), ('osioowtp', 'ajafw966'), ('87mjdccj', '2ks9iimj'), ('87mjdccj', 'sasijnks'), ('87mjdccj', 'yxtdqjay'), ('tfcerilc', '6wu024ng'), ('tfcerilc', 'cwzpb8fu'), ('tfcerilc', 'th0wddvc'), ('niii78fr', 'ejv2xln0'), ('4tvrhpss', 'zowp10ts'), ('4tvrhpss', 'cgl34ykt'), ('4tvrhpss', 'x7wva1ax'), ('05ppugs7', 'p34ezktf'), ('05ppugs7', 'tw6wusxe'), ('05ppugs7', 'fvfjz7al'), ('05ppugs7', 'fite9vs8'), ('tex6bgab', '5eqdrd52'), ('d5xv2xdr', 'yjwm84ub'), ('jy7j8sh0', 'fae3sczm'), ('utmt5sva', 'tw6wusxe'), ('utmt5sva', 'wrru98zg'), ('utmt5sva', 'zyaj90nh'), ('f0vud3gu', '7gmtp6km'), ('nn09hh29', 's4e08yvg'), ('uvf5qzfd', 'hx77tpbt'), ('p4exyu56', 'yci0a6bt'), ('eabho73n', 'a0pzw26l'), ('idffrnac', 'rb45gk2w'), ('5kapn32k', '6lezilfv'), ('yxtdqjay', 'nzh87aux'), ('yxtdqjay', '2ks9iimj'), ('yxtdqjay', 'fite9vs8'), ('yxtdqjay', 'wdcmb4x5'), ('yxtdqjay', '87mjdccj'), ('yxtdqjay', '36bfeoqv'), ('yxtdqjay', 'wcyv6w47'), ('yxtdqjay', '73nlxqgk'), ('zwgnkegf', '9zm4per4'), ('jgxbpy4j', '2zhaknbi'), ('094d0rn6', 'oluq7v0h'), ('36bfeoqv', 'yxtdqjay'), ('fmgnavfq', 'uj7lyawj'), ('k58gx6sf', '2lz03oqb'), ('6wu024ng', 'tfcerilc'), ('vexwisnz', '1n0rg5vd'), ('vexwisnz', 'iy4c7404'), ('epkw6222', '1n69h3i3'), ('d2mb2b3d', 'hd12p867'), ('cwzpb8fu', 'tfcerilc'), ('zizfgz7d', '7gk8uzo0'), ('q26f8pv4', '9zm4per4'), ('sboumuy9', 'wk2u2a9w'), ('hd12p867', 'xu9llz9u'), ('hd12p867', 'd2mb2b3d'), ('a0pzw26l', 'eabho73n'), ('th0wddvc', 'tfcerilc'), ('wcyv6w47', 'yfn8sy1m'), ('wcyv6w47', 'yxtdqjay'), ('8d4f4gmw', 'nzh87aux'), ('2lz03oqb', 'k58gx6sf'), ('1r1ueuk2', '7gmtp6km'), ('boto4h8x', 'ajlctjeb'), ('rb45gk2w', 'idffrnac'), ('wrru98zg', 'utmt5sva'), ('wrru98zg', 'zyaj90nh'), ('yjwm84ub', 'd5xv2xdr'), ('73nlxqgk', 'yxtdqjay'), ('2zhaknbi', 'jgxbpy4j'), ('zyaj90nh', 'utmt5sva'), ('zyaj90nh', 'wrru98zg'), ('00rk8fb5', 'ug7v899j'), ('00rk8fb5', 'iv18eiap'), ('8crvjzz4', 'xgwbl8em'), ('8crvjzz4', 'pc4x5e24'), ('c8yzoen7', 'bbvxu8op'), ('yci0a6bt', 'p4exyu56'), ('pc4x5e24', 'xgwbl8em'), ('pc4x5e24', '8crvjzz4'), ('f6igj0pd', 'fpsyem7x'), ('dc7fn26s', '9tivuyh5'), ('s4e08yvg', 'nn09hh29'), ('iv18eiap', '00rk8fb5'), ('9tivuyh5', 'dc7fn26s'), ('wk2u2a9w', 'sboumuy9')]\n",
            "time: 792 µs (started: 2023-05-17 13:27:06 +00:00)\n"
          ]
        }
      ]
    },
    {
      "cell_type": "code",
      "source": [
        "print(\"The number of similar document pairs:\", len(S_result))"
      ],
      "metadata": {
        "colab": {
          "base_uri": "https://localhost:8080/"
        },
        "id": "i2UzNEYKcl2J",
        "outputId": "923f5f16-3df5-49cd-e79a-609962bd805c"
      },
      "execution_count": null,
      "outputs": [
        {
          "output_type": "stream",
          "name": "stdout",
          "text": [
            "The number of similar document pairs: 156\n",
            "time: 569 µs (started: 2023-05-17 13:27:17 +00:00)\n"
          ]
        }
      ]
    },
    {
      "cell_type": "markdown",
      "source": [
        "**Parallel Solution (MapReduce & Apache Spark)**"
      ],
      "metadata": {
        "id": "ro1WHJkACBzY"
      }
    },
    {
      "cell_type": "code",
      "source": [
        "!pip install pyspark"
      ],
      "metadata": {
        "colab": {
          "base_uri": "https://localhost:8080/"
        },
        "id": "QS9wujdYjY-G",
        "outputId": "c66abb19-2027-46d2-83bd-ec0a4c1a1a92"
      },
      "execution_count": null,
      "outputs": [
        {
          "output_type": "stream",
          "name": "stdout",
          "text": [
            "Looking in indexes: https://pypi.org/simple, https://us-python.pkg.dev/colab-wheels/public/simple/\n",
            "Collecting pyspark\n",
            "  Downloading pyspark-3.4.0.tar.gz (310.8 MB)\n",
            "\u001b[2K     \u001b[90m━━━━━━━━━━━━━━━━━━━━━━━━━━━━━━━━━━━━━━━\u001b[0m \u001b[32m310.8/310.8 MB\u001b[0m \u001b[31m3.0 MB/s\u001b[0m eta \u001b[36m0:00:00\u001b[0m\n",
            "\u001b[?25h  Preparing metadata (setup.py) ... \u001b[?25l\u001b[?25hdone\n",
            "Requirement already satisfied: py4j==0.10.9.7 in /usr/local/lib/python3.10/dist-packages (from pyspark) (0.10.9.7)\n",
            "Building wheels for collected packages: pyspark\n",
            "  Building wheel for pyspark (setup.py) ... \u001b[?25l\u001b[?25hdone\n",
            "  Created wheel for pyspark: filename=pyspark-3.4.0-py2.py3-none-any.whl size=311317130 sha256=b0c40d1ecaf87d8ba251ab5ab657200d2baf2d236de880cf164e7beae8bc1e6a\n",
            "  Stored in directory: /root/.cache/pip/wheels/7b/1b/4b/3363a1d04368e7ff0d408e57ff57966fcdf00583774e761327\n",
            "Successfully built pyspark\n",
            "Installing collected packages: pyspark\n",
            "Successfully installed pyspark-3.4.0\n",
            "time: 38 s (started: 2023-05-17 13:28:50 +00:00)\n"
          ]
        }
      ]
    },
    {
      "cell_type": "code",
      "source": [
        "from pyspark.sql import SparkSession\n",
        "from scipy.sparse import find\n",
        "from collections import defaultdict"
      ],
      "metadata": {
        "id": "buhblgZ7kMHA"
      },
      "execution_count": null,
      "outputs": []
    },
    {
      "cell_type": "code",
      "source": [
        "def map(doc_id, document, threshold):\n",
        "    pairs = []\n",
        "    for term in find(document)[1]:  # Iterate over the terms in the document\n",
        "        if term > b(document, threshold):\n",
        "            pairs.append((term, (doc_id, document))) # Add a pair to the list of pairs\n",
        "    return pairs\n",
        "\n",
        "def reduce(t, values, threshold):\n",
        "    result = []\n",
        "    for id1, d1 in values: # Iterate over all pairs of values\n",
        "        for id2, d2 in values:\n",
        "            if id1 != id2 and t == max(set(find(d1)[1]) & set(find(d2)[1])): # Check if the ids are different and if t is equal to the maximum of the intersection of the terms in d1 and d2\n",
        "                sim = cosine_similarity(d1, d2)\n",
        "                if sim >= threshold:\n",
        "                    result.append((id1, id2, sim))\n",
        "    return result\n",
        "\n",
        "def cosine_similarity(d1, d2):\n",
        "    dot_product = np.dot(d1.A, d2.T.A)[0, 0]  # Compute the dot product between d1 and d2\n",
        "    # Compute the norm of d1 and d2\n",
        "    norm1 = np.linalg.norm(d1.A)\n",
        "    norm2 = np.linalg.norm(d2.A)\n",
        "    return dot_product / (norm1 * norm2)\n",
        "\n",
        "def b(document, threshold): # Prefix Filtering function\n",
        "    sum_ = 0\n",
        "    for t in find(document)[1]:  # Iterate over the terms in the document\n",
        "        sum_ += document[0,t] * d_star[t] # Update the sum with the product of the term frequency and d_star[t]\n",
        "        if sum_ >= threshold:\n",
        "            return t\n",
        "    return float('inf')\n",
        "\n",
        "def find_similar_documents_parallel(corpus_vectorized_rdd, threshold):\n",
        "    global d_star\n",
        "    d_star = defaultdict(float)  # Initialize d_star as a defaultdict with float values\n",
        "    for doc_id, document in corpus_vectorized_rdd.collect(): # Iterate over all documents in corpus_vectorized_rdd\n",
        "        for term in find(document)[1]: # Iterate over all terms in document\n",
        "            d_star[term] = max(d_star[term], document[0,term]) # Update d_star[term] with the maximum value between its current value and document[0,term]\n",
        "\n",
        "    # Apply a flatMap transformation to corpus_vectorized_rdd using the map function defined above\n",
        "    pairs_rdd = corpus_vectorized_rdd.flatMap(lambda x: map(x[0], x[1], threshold))\n",
        "\n",
        "    # Apply a groupByKey transformation to pairs_rdd followed by a flatMap transformation using the reduce function defined above\n",
        "    result_rdd = pairs_rdd.groupByKey().flatMap(lambda x: reduce(x[0], list(x[1]), threshold))\n",
        "\n",
        "    # Collect and return the results\n",
        "    return result_rdd.collect()"
      ],
      "metadata": {
        "id": "k_5goJTVPl_O"
      },
      "execution_count": null,
      "outputs": []
    },
    {
      "cell_type": "code",
      "source": [
        "# Create a SparkSession object with spark.executor.cores set Number of cores and a SparkContext object\n",
        "spark = SparkSession.builder.appName(\"MySimilaritySearch\").config(\"spark.executor.cores\", \"16\").getOrCreate()\n",
        "sc = spark.sparkContext"
      ],
      "metadata": {
        "id": "uYVTF0K99zC8"
      },
      "execution_count": null,
      "outputs": []
    },
    {
      "cell_type": "code",
      "source": [
        "# Parallelize corpus_vectorized using sc.parallelize()\n",
        "corpus_vectorized_rdd = sc.parallelize(corpus_vectorized.items())"
      ],
      "metadata": {
        "id": "N_UzMkKh-AwP"
      },
      "execution_count": null,
      "outputs": []
    },
    {
      "cell_type": "code",
      "source": [
        "# Call find_similar_documents_parallel() with corpus_vectorized_rdd and threshold as arguments and store the result in P_result variable.\n",
        "P_result = find_similar_documents_parallel(corpus_vectorized_rdd, threshold)"
      ],
      "metadata": {
        "colab": {
          "base_uri": "https://localhost:8080/"
        },
        "id": "-MaIfowE-K_t",
        "outputId": "9911f60d-ad2c-40d9-8e7f-91406b534167"
      },
      "execution_count": null,
      "outputs": [
        {
          "output_type": "stream",
          "name": "stdout",
          "text": [
            "time: 17min 6s (started: 2023-05-17 13:29:37 +00:00)\n"
          ]
        }
      ]
    },
    {
      "cell_type": "code",
      "source": [
        "print(\"The similar document pairs:\", P_result)\n"
      ],
      "metadata": {
        "id": "fUL5Aa2rFEVk",
        "colab": {
          "base_uri": "https://localhost:8080/"
        },
        "outputId": "737e74b2-1e4f-468d-dee3-f46583fff498"
      },
      "execution_count": null,
      "outputs": [
        {
          "output_type": "stream",
          "name": "stdout",
          "text": [
            "The similar document pairs: [('ug7v899j', '00rk8fb5', 0.32579619694172535), ('ejv2xln0', 'niii78fr', 0.5300750651914734), ('zowp10ts', 'cgl34ykt', 0.38022471904420285), ('754nln40', 'ipwm9uob', 0.34639129893658316), ('p34ezktf', 'fite9vs8', 0.3040123496349497), ('cgl34ykt', 'zowp10ts', 0.38022471904420285), ('cgl34ykt', 'x7wva1ax', 0.41214688251661163), ('tw6wusxe', '05ppugs7', 0.32757212270821123), ('58czem0j', '1dus0u4m', 0.31120839923843807), ('5eqdrd52', 'tex6bgab', 0.3182368926634537), ('5fl0rk90', 'ze511t38', 0.3053971064147807), ('1n0rg5vd', 'iy4c7404', 0.4275541982910774), ('s4y6uxsb', 'z5klydpi', 0.3085262235954564), ('9zmyojbu', '7gk8uzo0', 0.30536684043101203), ('z5klydpi', 's4y6uxsb', 0.3085262235954564), ('2ks9iimj', 'sasijnks', 0.3184332283921504), ('2ks9iimj', '87mjdccj', 0.37752865496002624), ('2ks9iimj', 'yxtdqjay', 0.32512236385033877), ('yfn8sy1m', 'wcyv6w47', 0.32220267902434263), ('9zm4per4', 'q26f8pv4', 0.3532136255448324), ('noscodew', '5j496cx0', 0.3530251884180091), ('6lezilfv', 'ajafw966', 0.39145756463799475), ('6lezilfv', '5kapn32k', 0.30723798227721055), ('7gk8uzo0', '9zmyojbu', 0.30536684043101203), ('7gk8uzo0', 'zizfgz7d', 0.33010326157292685), ('fite9vs8', 'p34ezktf', 0.3040123496349497), ('fite9vs8', '05ppugs7', 0.3338608436378424), ('fite9vs8', 'yxtdqjay', 0.35885822206788337), ('ipwm9uob', '754nln40', 0.34639129893658316), ('fae3sczm', 'jy7j8sh0', 0.6009303507163998), ('x7wva1ax', 'cgl34ykt', 0.41214688251661163), ('1dus0u4m', '58czem0j', 0.31120839923843807), ('iy4c7404', '1n0rg5vd', 0.4275541982910774), ('ze511t38', '5fl0rk90', 0.3053971064147807), ('ajafw966', '6lezilfv', 0.39145756463799475), ('ajafw966', 'osioowtp', 0.30558734990893255), ('7gmtp6km', 'f0vud3gu', 0.3727400683639587), ('7gmtp6km', '1r1ueuk2', 0.31383633707258873), ('ueglfhux', 'prsvv6l9', 0.36694513449278277), ('fpsyem7x', 'f6igj0pd', 0.3744058392963501), ('prsvv6l9', 'ueglfhux', 0.36694513449278277), ('5j496cx0', 'noscodew', 0.3530251884180091), ('sasijnks', '2ks9iimj', 0.3184332283921504), ('sasijnks', '87mjdccj', 0.3898185731445947), ('uj7lyawj', 'fmgnavfq', 0.5280154485884452), ('osioowtp', 'ajafw966', 0.30558734990893255), ('87mjdccj', '2ks9iimj', 0.37752865496002624), ('87mjdccj', 'sasijnks', 0.3898185731445947), ('87mjdccj', 'yxtdqjay', 0.34834183409632674), ('tfcerilc', '6wu024ng', 0.31321143918637756), ('niii78fr', 'ejv2xln0', 0.5300750651914734), ('05ppugs7', 'tw6wusxe', 0.32757212270821123), ('05ppugs7', 'fite9vs8', 0.3338608436378424), ('tex6bgab', '5eqdrd52', 0.3182368926634537), ('jy7j8sh0', 'fae3sczm', 0.6009303507163998), ('utmt5sva', 'wrru98zg', 0.3016482615247376), ('f0vud3gu', '7gmtp6km', 0.3727400683639587), ('p4exyu56', 'yci0a6bt', 0.7031323511757288), ('eabho73n', 'a0pzw26l', 0.37382027526938705), ('5kapn32k', '6lezilfv', 0.30723798227721055), ('yxtdqjay', '2ks9iimj', 0.32512236385033877), ('yxtdqjay', 'fite9vs8', 0.35885822206788337), ('yxtdqjay', '87mjdccj', 0.34834183409632674), ('yxtdqjay', 'wcyv6w47', 0.3253186216341599), ('jgxbpy4j', '2zhaknbi', 0.3321841806508018), ('fmgnavfq', 'uj7lyawj', 0.5280154485884452), ('6wu024ng', 'tfcerilc', 0.31321143918637756), ('zizfgz7d', '7gk8uzo0', 0.33010326157292685), ('q26f8pv4', '9zm4per4', 0.3532136255448324), ('sboumuy9', 'wk2u2a9w', 0.32738435483237865), ('a0pzw26l', 'eabho73n', 0.37382027526938705), ('wcyv6w47', 'yfn8sy1m', 0.32220267902434263), ('wcyv6w47', 'yxtdqjay', 0.3253186216341599), ('1r1ueuk2', '7gmtp6km', 0.31383633707258873), ('wrru98zg', 'utmt5sva', 0.3016482615247376), ('wrru98zg', 'zyaj90nh', 0.3415318614240908), ('2zhaknbi', 'jgxbpy4j', 0.3321841806508018), ('zyaj90nh', 'wrru98zg', 0.3415318614240908), ('00rk8fb5', 'ug7v899j', 0.32579619694172535), ('00rk8fb5', 'iv18eiap', 0.3146140381859684), ('yci0a6bt', 'p4exyu56', 0.7031323511757288), ('f6igj0pd', 'fpsyem7x', 0.3744058392963501), ('dc7fn26s', '9tivuyh5', 0.3051917305131299), ('iv18eiap', '00rk8fb5', 0.3146140381859684), ('9tivuyh5', 'dc7fn26s', 0.3051917305131299), ('wk2u2a9w', 'sboumuy9', 0.32738435483237865), ('wdcmb4x5', 'yxtdqjay', 0.3113870221374333), ('tfcerilc', 'cwzpb8fu', 0.30018607081033505), ('tfcerilc', 'th0wddvc', 0.39972977832850215), ('yxtdqjay', 'wdcmb4x5', 0.3113870221374333), ('yxtdqjay', '36bfeoqv', 0.33129666452560014), ('yxtdqjay', '73nlxqgk', 0.3049962217615515), ('36bfeoqv', 'yxtdqjay', 0.33129666452560014), ('cwzpb8fu', 'tfcerilc', 0.30018607081033505), ('th0wddvc', 'tfcerilc', 0.39972977832850215), ('73nlxqgk', 'yxtdqjay', 0.3049962217615515), ('1n69h3i3', 'epkw6222', 0.3686787845832204), ('epkw6222', '1n69h3i3', 0.3686787845832204), ('ajlctjeb', 'boto4h8x', 0.3190422607882324), ('1n0rg5vd', 'vexwisnz', 0.43206280551871673), ('iy4c7404', 'vexwisnz', 0.3514870776851235), ('idffrnac', 'rb45gk2w', 0.3203647749980955), ('vexwisnz', '1n0rg5vd', 0.43206280551871673), ('vexwisnz', 'iy4c7404', 0.3514870776851235), ('boto4h8x', 'ajlctjeb', 0.3190422607882324), ('rb45gk2w', 'idffrnac', 0.3203647749980955), ('tw6wusxe', 'utmt5sva', 0.3151555464769802), ('utmt5sva', 'tw6wusxe', 0.3151555464769802), ('d2mb2b3d', 'hd12p867', 0.317232391704638), ('hd12p867', 'd2mb2b3d', 0.317232391704638), ('d5xv2xdr', 'yjwm84ub', 0.4353750732235151), ('nn09hh29', 's4e08yvg', 0.30932153770498705), ('yjwm84ub', 'd5xv2xdr', 0.4353750732235151), ('s4e08yvg', 'nn09hh29', 0.30932153770498705), ('cgl34ykt', '4tvrhpss', 0.33185783647146994), ('xgwbl8em', '69gftii4', 0.31128248686200816), ('xgwbl8em', 'pc4x5e24', 0.4019762061595562), ('69gftii4', 'xgwbl8em', 0.31128248686200816), ('nzh87aux', '8d4f4gmw', 0.33618319406732333), ('9zm4per4', 'zwgnkegf', 0.32440330984872556), ('hx77tpbt', 'uvf5qzfd', 0.307844938070962), ('4tvrhpss', 'cgl34ykt', 0.33185783647146994), ('uvf5qzfd', 'hx77tpbt', 0.307844938070962), ('zwgnkegf', '9zm4per4', 0.32440330984872556), ('8d4f4gmw', 'nzh87aux', 0.33618319406732333), ('pc4x5e24', 'xgwbl8em', 0.4019762061595562), ('fvfjz7al', '05ppugs7', 0.4029440382639877), ('05ppugs7', 'fvfjz7al', 0.4029440382639877), ('p34ezktf', '05ppugs7', 0.3560401586938671), ('05ppugs7', 'p34ezktf', 0.3560401586938671), ('8crvjzz4', 'pc4x5e24', 0.31468677635332554), ('pc4x5e24', '8crvjzz4', 0.31468677635332554), ('bbvxu8op', 'c8yzoen7', 0.3303151356744726), ('c8yzoen7', 'bbvxu8op', 0.3303151356744726), ('zowp10ts', '4tvrhpss', 0.42520502427556117), ('x7wva1ax', '4tvrhpss', 0.3032590975828739), ('4tvrhpss', 'zowp10ts', 0.42520502427556117), ('4tvrhpss', 'x7wva1ax', 0.3032590975828739), ('fvfjz7al', 'fite9vs8', 0.3269300955249043), ('9zm4per4', 'wtvfow2f', 0.3647181661784274), ('fite9vs8', 'fvfjz7al', 0.3269300955249043), ('wtvfow2f', '9zm4per4', 0.3647181661784274), ('k58gx6sf', '2lz03oqb', 0.30869187300891615), ('2lz03oqb', 'k58gx6sf', 0.30869187300891615), ('fj9l8che', '4z38v9rg', 0.36828911611914006), ('4z38v9rg', 'fj9l8che', 0.36828911611914006), ('nzh87aux', 'yxtdqjay', 0.3568216774269373), ('yxtdqjay', 'nzh87aux', 0.3568216774269373), ('xgwbl8em', '8crvjzz4', 0.31601907713776356), ('8crvjzz4', 'xgwbl8em', 0.31601907713776356), ('xu9llz9u', 'hd12p867', 0.3613426228794435), ('hd12p867', 'xu9llz9u', 0.3613426228794435), ('oluq7v0h', '094d0rn6', 0.30505489704729427), ('094d0rn6', 'oluq7v0h', 0.30505489704729427), ('utmt5sva', 'zyaj90nh', 0.49356937104527443), ('zyaj90nh', 'utmt5sva', 0.49356937104527443)]\n",
            "time: 1.2 ms (started: 2023-05-17 13:46:54 +00:00)\n"
          ]
        }
      ]
    },
    {
      "cell_type": "code",
      "source": [
        "print(\"The number of similar document pairs:\", len(P_result))"
      ],
      "metadata": {
        "id": "10sFB_M5K5z2",
        "colab": {
          "base_uri": "https://localhost:8080/"
        },
        "outputId": "36fb9bfb-a817-43f7-ce53-a94fe8374bc4"
      },
      "execution_count": null,
      "outputs": [
        {
          "output_type": "stream",
          "name": "stdout",
          "text": [
            "The number of similar document pairs: 156\n",
            "time: 632 µs (started: 2023-05-17 13:46:58 +00:00)\n"
          ]
        }
      ]
    }
  ],
  "metadata": {
    "accelerator": "GPU",
    "colab": {
      "machine_shape": "hm",
      "provenance": [],
      "gpuType": "T4",
      "authorship_tag": "ABX9TyPk76qLUsb30GlcE07KCTOf",
      "include_colab_link": true
    },
    "gpuClass": "standard",
    "kernelspec": {
      "display_name": "Python 3",
      "name": "python3"
    },
    "language_info": {
      "name": "python"
    },
    "widgets": {
      "application/vnd.jupyter.widget-state+json": {
        "9ac9ea7d9e524a8c83276f4ea86f2031": {
          "model_module": "@jupyter-widgets/controls",
          "model_name": "HBoxModel",
          "model_module_version": "1.5.0",
          "state": {
            "_dom_classes": [],
            "_model_module": "@jupyter-widgets/controls",
            "_model_module_version": "1.5.0",
            "_model_name": "HBoxModel",
            "_view_count": null,
            "_view_module": "@jupyter-widgets/controls",
            "_view_module_version": "1.5.0",
            "_view_name": "HBoxView",
            "box_style": "",
            "children": [
              "IPY_MODEL_36fdbdb910fd4f94b7018cd087692149",
              "IPY_MODEL_73ea4e15e35044d788432ac425c81eca",
              "IPY_MODEL_98df6a44347c4d73acd2620f5b737a66"
            ],
            "layout": "IPY_MODEL_c0345310a9b4448388d13d76d5bb3433"
          }
        },
        "36fdbdb910fd4f94b7018cd087692149": {
          "model_module": "@jupyter-widgets/controls",
          "model_name": "HTMLModel",
          "model_module_version": "1.5.0",
          "state": {
            "_dom_classes": [],
            "_model_module": "@jupyter-widgets/controls",
            "_model_module_version": "1.5.0",
            "_model_name": "HTMLModel",
            "_view_count": null,
            "_view_module": "@jupyter-widgets/controls",
            "_view_module_version": "1.5.0",
            "_view_name": "HTMLView",
            "description": "",
            "description_tooltip": null,
            "layout": "IPY_MODEL_80c1abe73683454286a8d2cc067f98f7",
            "placeholder": "​",
            "style": "IPY_MODEL_2d55198bd2d14399b441b749329b8ada",
            "value": "100%"
          }
        },
        "73ea4e15e35044d788432ac425c81eca": {
          "model_module": "@jupyter-widgets/controls",
          "model_name": "FloatProgressModel",
          "model_module_version": "1.5.0",
          "state": {
            "_dom_classes": [],
            "_model_module": "@jupyter-widgets/controls",
            "_model_module_version": "1.5.0",
            "_model_name": "FloatProgressModel",
            "_view_count": null,
            "_view_module": "@jupyter-widgets/controls",
            "_view_module_version": "1.5.0",
            "_view_name": "ProgressView",
            "bar_style": "success",
            "description": "",
            "description_tooltip": null,
            "layout": "IPY_MODEL_00eeb2e43a2744a6bef8efa9142e9d93",
            "max": 171332,
            "min": 0,
            "orientation": "horizontal",
            "style": "IPY_MODEL_837b5bd428fe4ff6a497021bba621119",
            "value": 171332
          }
        },
        "98df6a44347c4d73acd2620f5b737a66": {
          "model_module": "@jupyter-widgets/controls",
          "model_name": "HTMLModel",
          "model_module_version": "1.5.0",
          "state": {
            "_dom_classes": [],
            "_model_module": "@jupyter-widgets/controls",
            "_model_module_version": "1.5.0",
            "_model_name": "HTMLModel",
            "_view_count": null,
            "_view_module": "@jupyter-widgets/controls",
            "_view_module_version": "1.5.0",
            "_view_name": "HTMLView",
            "description": "",
            "description_tooltip": null,
            "layout": "IPY_MODEL_67e59ff4677d42ebafdbde2bff9405df",
            "placeholder": "​",
            "style": "IPY_MODEL_68a8c2c2214544dfbfcacda7a0506bd6",
            "value": " 171332/171332 [00:01&lt;00:00, 100828.00it/s]"
          }
        },
        "c0345310a9b4448388d13d76d5bb3433": {
          "model_module": "@jupyter-widgets/base",
          "model_name": "LayoutModel",
          "model_module_version": "1.2.0",
          "state": {
            "_model_module": "@jupyter-widgets/base",
            "_model_module_version": "1.2.0",
            "_model_name": "LayoutModel",
            "_view_count": null,
            "_view_module": "@jupyter-widgets/base",
            "_view_module_version": "1.2.0",
            "_view_name": "LayoutView",
            "align_content": null,
            "align_items": null,
            "align_self": null,
            "border": null,
            "bottom": null,
            "display": null,
            "flex": null,
            "flex_flow": null,
            "grid_area": null,
            "grid_auto_columns": null,
            "grid_auto_flow": null,
            "grid_auto_rows": null,
            "grid_column": null,
            "grid_gap": null,
            "grid_row": null,
            "grid_template_areas": null,
            "grid_template_columns": null,
            "grid_template_rows": null,
            "height": null,
            "justify_content": null,
            "justify_items": null,
            "left": null,
            "margin": null,
            "max_height": null,
            "max_width": null,
            "min_height": null,
            "min_width": null,
            "object_fit": null,
            "object_position": null,
            "order": null,
            "overflow": null,
            "overflow_x": null,
            "overflow_y": null,
            "padding": null,
            "right": null,
            "top": null,
            "visibility": null,
            "width": null
          }
        },
        "80c1abe73683454286a8d2cc067f98f7": {
          "model_module": "@jupyter-widgets/base",
          "model_name": "LayoutModel",
          "model_module_version": "1.2.0",
          "state": {
            "_model_module": "@jupyter-widgets/base",
            "_model_module_version": "1.2.0",
            "_model_name": "LayoutModel",
            "_view_count": null,
            "_view_module": "@jupyter-widgets/base",
            "_view_module_version": "1.2.0",
            "_view_name": "LayoutView",
            "align_content": null,
            "align_items": null,
            "align_self": null,
            "border": null,
            "bottom": null,
            "display": null,
            "flex": null,
            "flex_flow": null,
            "grid_area": null,
            "grid_auto_columns": null,
            "grid_auto_flow": null,
            "grid_auto_rows": null,
            "grid_column": null,
            "grid_gap": null,
            "grid_row": null,
            "grid_template_areas": null,
            "grid_template_columns": null,
            "grid_template_rows": null,
            "height": null,
            "justify_content": null,
            "justify_items": null,
            "left": null,
            "margin": null,
            "max_height": null,
            "max_width": null,
            "min_height": null,
            "min_width": null,
            "object_fit": null,
            "object_position": null,
            "order": null,
            "overflow": null,
            "overflow_x": null,
            "overflow_y": null,
            "padding": null,
            "right": null,
            "top": null,
            "visibility": null,
            "width": null
          }
        },
        "2d55198bd2d14399b441b749329b8ada": {
          "model_module": "@jupyter-widgets/controls",
          "model_name": "DescriptionStyleModel",
          "model_module_version": "1.5.0",
          "state": {
            "_model_module": "@jupyter-widgets/controls",
            "_model_module_version": "1.5.0",
            "_model_name": "DescriptionStyleModel",
            "_view_count": null,
            "_view_module": "@jupyter-widgets/base",
            "_view_module_version": "1.2.0",
            "_view_name": "StyleView",
            "description_width": ""
          }
        },
        "00eeb2e43a2744a6bef8efa9142e9d93": {
          "model_module": "@jupyter-widgets/base",
          "model_name": "LayoutModel",
          "model_module_version": "1.2.0",
          "state": {
            "_model_module": "@jupyter-widgets/base",
            "_model_module_version": "1.2.0",
            "_model_name": "LayoutModel",
            "_view_count": null,
            "_view_module": "@jupyter-widgets/base",
            "_view_module_version": "1.2.0",
            "_view_name": "LayoutView",
            "align_content": null,
            "align_items": null,
            "align_self": null,
            "border": null,
            "bottom": null,
            "display": null,
            "flex": null,
            "flex_flow": null,
            "grid_area": null,
            "grid_auto_columns": null,
            "grid_auto_flow": null,
            "grid_auto_rows": null,
            "grid_column": null,
            "grid_gap": null,
            "grid_row": null,
            "grid_template_areas": null,
            "grid_template_columns": null,
            "grid_template_rows": null,
            "height": null,
            "justify_content": null,
            "justify_items": null,
            "left": null,
            "margin": null,
            "max_height": null,
            "max_width": null,
            "min_height": null,
            "min_width": null,
            "object_fit": null,
            "object_position": null,
            "order": null,
            "overflow": null,
            "overflow_x": null,
            "overflow_y": null,
            "padding": null,
            "right": null,
            "top": null,
            "visibility": null,
            "width": null
          }
        },
        "837b5bd428fe4ff6a497021bba621119": {
          "model_module": "@jupyter-widgets/controls",
          "model_name": "ProgressStyleModel",
          "model_module_version": "1.5.0",
          "state": {
            "_model_module": "@jupyter-widgets/controls",
            "_model_module_version": "1.5.0",
            "_model_name": "ProgressStyleModel",
            "_view_count": null,
            "_view_module": "@jupyter-widgets/base",
            "_view_module_version": "1.2.0",
            "_view_name": "StyleView",
            "bar_color": null,
            "description_width": ""
          }
        },
        "67e59ff4677d42ebafdbde2bff9405df": {
          "model_module": "@jupyter-widgets/base",
          "model_name": "LayoutModel",
          "model_module_version": "1.2.0",
          "state": {
            "_model_module": "@jupyter-widgets/base",
            "_model_module_version": "1.2.0",
            "_model_name": "LayoutModel",
            "_view_count": null,
            "_view_module": "@jupyter-widgets/base",
            "_view_module_version": "1.2.0",
            "_view_name": "LayoutView",
            "align_content": null,
            "align_items": null,
            "align_self": null,
            "border": null,
            "bottom": null,
            "display": null,
            "flex": null,
            "flex_flow": null,
            "grid_area": null,
            "grid_auto_columns": null,
            "grid_auto_flow": null,
            "grid_auto_rows": null,
            "grid_column": null,
            "grid_gap": null,
            "grid_row": null,
            "grid_template_areas": null,
            "grid_template_columns": null,
            "grid_template_rows": null,
            "height": null,
            "justify_content": null,
            "justify_items": null,
            "left": null,
            "margin": null,
            "max_height": null,
            "max_width": null,
            "min_height": null,
            "min_width": null,
            "object_fit": null,
            "object_position": null,
            "order": null,
            "overflow": null,
            "overflow_x": null,
            "overflow_y": null,
            "padding": null,
            "right": null,
            "top": null,
            "visibility": null,
            "width": null
          }
        },
        "68a8c2c2214544dfbfcacda7a0506bd6": {
          "model_module": "@jupyter-widgets/controls",
          "model_name": "DescriptionStyleModel",
          "model_module_version": "1.5.0",
          "state": {
            "_model_module": "@jupyter-widgets/controls",
            "_model_module_version": "1.5.0",
            "_model_name": "DescriptionStyleModel",
            "_view_count": null,
            "_view_module": "@jupyter-widgets/base",
            "_view_module_version": "1.2.0",
            "_view_name": "StyleView",
            "description_width": ""
          }
        }
      }
    }
  },
  "nbformat": 4,
  "nbformat_minor": 0
}